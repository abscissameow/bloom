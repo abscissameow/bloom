{
  "cells": [
    {
      "cell_type": "code",
      "execution_count": null,
      "metadata": {
        "id": "rA7bf4-OcwRw"
      },
      "outputs": [],
      "source": [
        "!pip install -q petals\n",
        "!pip install -U sentence-transformers"
      ]
    },
    {
      "cell_type": "code",
      "execution_count": 2,
      "metadata": {
        "id": "XZfMuj7Uc1Sq"
      },
      "outputs": [],
      "source": [
        "import torch\n",
        "from transformers import BloomTokenizerFast \n",
        "from petals import DistributedBloomForCausalLM\n",
        "from sentence_transformers import SentenceTransformer\n",
        "from google.colab import drive\n",
        "import matplotlib.pyplot as plt\n",
        "import numpy as np\n",
        "import urllib.request\n",
        "from tqdm import tqdm\n",
        "import statistics\n",
        "import requests\n",
        "import json\n",
        "import re\n",
        "import os\n",
        "import random\n",
        "import time\n",
        "random.seed(2)\n",
        "\n",
        "# загружаем модель bloom-7b1-petals для генерации текста\n",
        "MODEL_NAME = \"bigscience/bloom-7b1-petals\"\n",
        "tokenizer = BloomTokenizerFast.from_pretrained(MODEL_NAME)\n",
        "model = DistributedBloomForCausalLM.from_pretrained(MODEL_NAME)\n",
        "model = model.cuda()"
      ]
    },
    {
      "cell_type": "code",
      "execution_count": 3,
      "metadata": {
        "id": "s6PkuQS65L2Y"
      },
      "outputs": [],
      "source": [
        "url_GSM8K = 'https://raw.githubusercontent.com/openai/grade-school-math/master/grade_school_math/data/train.jsonl'\n",
        "\n",
        "# выгружаем размеченные данные из GSM8K\n",
        "data_GSM8K = urllib.request.urlopen(url_GSM8K).read().decode(\"utf-8\").splitlines()\n"
      ]
    },
    {
      "cell_type": "code",
      "execution_count": 4,
      "metadata": {
        "id": "ZEsMMRwjtmVF"
      },
      "outputs": [],
      "source": [
        "# каждый prompt начинается с EXAMPLES_NUMBER одинаковых примеров вопрос-решение-ответ\n",
        "# используем NUMBER_OF_TEST_PROBLEMS задач для сравнения greedy и self-sonsistency методов\n",
        "# берем NUMBER_OF_SAMPLES сэмплов для ансамблированного CoT\n",
        "EXAMPLES_NUMBER = 5\n",
        "NUMBER_OF_TEST_PROBLEMS = 100\n",
        "NUMBER_OF_SAMPLES = 15\n",
        "PROMPTS = []\n",
        "ANSWERS = []\n",
        "\n",
        "# выбираем случайно индексы для примеров\n",
        "example_index = [random.randint(1, len(data_GSM8K)) for _ in range(EXAMPLES_NUMBER)] \n",
        "\n",
        "examples_string = '' \n",
        "for i in example_index:\n",
        "  examples_string += 'question: ' + json.loads(data_GSM8K[i])[\"question\"] +\\\n",
        "                     '\\nanswer: ' + json.loads(data_GSM8K[i])[\"answer\"  ] + '.\\n\\n'\n",
        "\n",
        "examples = re.sub(r\"<<[\\d\\W]+>>\", \"\",examples_string.replace(\"####\", \"The answer is\"))\n",
        "\n",
        "# подготавливаем список PROMPTS и список правильных решений-ответов ANSWERS\n",
        "for i,problem in enumerate(data_GSM8K):\n",
        "  if i not in example_index:\n",
        "    PROMPTS.append((examples.replace(\"####\", \"The answer is\") + '\\nquestion: ' +\\\n",
        "                    json.loads(problem)[\"question\"] + '\\nanswer: ').replace(\"\\n\", \"\"))\n",
        "    \n",
        "    thoughts = json.loads(data_GSM8K[i])[\"answer\"]\n",
        "    ANSWERS.append([thoughts[thoughts.find('#### ') + len('#### '):], thoughts])"
      ]
    },
    {
      "cell_type": "code",
      "execution_count": 3,
      "metadata": {
        "id": "FbaPpBIvyUEU"
      },
      "outputs": [],
      "source": [
        "# генерируем ответ на prompt батчами по 50 токенов пока не встретим answer или не достигнем\n",
        "# ограничения max_len токенов\n",
        "def Responce(prompt, greedy=True, max_len=500):\n",
        "  example_len = len(prompt)\n",
        "  try:\n",
        "    match_re = re.search(r\"answer(.*?)\\.\", prompt[example_len:], re.IGNORECASE)\n",
        "    while (not match_re) and (len(prompt) - example_len < max_len):\n",
        "      outputs = model.generate(\n",
        "          tokenizer(prompt, return_tensors=\"pt\")[\"input_ids\"].cuda(), \n",
        "          do_sample      = not greedy, \n",
        "          max_new_tokens = 50,\n",
        "          )\n",
        "      prompt   = tokenizer.decode(outputs[0])\n",
        "      match_re = re.search(r\"answer(.*?)\\.\", prompt[example_len:], re.IGNORECASE)\n",
        "    return prompt[example_len:]\n",
        "\n",
        "  except Exception as e: \n",
        "    print(e)\n",
        "    time.sleep(10)\n",
        "    return Responce(prompt, greedy=greedy, max_len=max_len)\n",
        "\n",
        "\n"
      ]
    },
    {
      "cell_type": "code",
      "execution_count": null,
      "metadata": {
        "id": "6HD6hgSiT5Te"
      },
      "outputs": [],
      "source": [
        "# для каждой задачи генерируем NUMBER_OF_SAMPLES сэмплов (not greedy) и записываем на гугл диск\n",
        "drive.mount('/content/drive')\n",
        "\n",
        "if not os.path.exists('/content/drive/MyDrive/Colab Notebooks'):\n",
        "  os.makedirs('/content/drive/MyDrive/Colab Notebooks')\n",
        "\n",
        "for i in tqdm(range(NUMBER_OF_TEST_PROBLEMS)):\n",
        "  for _ in range(NUMBER_OF_SAMPLES):\n",
        "    result = Responce(PROMPTS[i], greedy=False, max_len=500)\n",
        "    with open(f'/content/drive/MyDrive/Colab Notebooks/ensemble_{i}_easy.txt', 'a') as f:\n",
        "      f.write(result + '#\\n\\n')\n",
        "      f.flush()"
      ]
    },
    {
      "cell_type": "code",
      "execution_count": null,
      "metadata": {
        "id": "v5kHIIS6w3uj"
      },
      "outputs": [],
      "source": [
        "# генерация greedy решений \n",
        "for i in tqdm(range(NUMBER_OF_TEST_PROBLEMS)):\n",
        "  result = Responce(PROMPTS[i], greedy=True, max_len=500)\n",
        "  with open(f'/content/drive/MyDrive/Colab Notebooks/greedy_easy.txt', 'a') as f:\n",
        "    f.write(result + '#\\n\\n')\n",
        "    f.flush()"
      ]
    },
    {
      "cell_type": "code",
      "execution_count": 6,
      "metadata": {
        "id": "6RwJEx8MNChr"
      },
      "outputs": [],
      "source": [
        "# ищем в сгененированном решении ответ: сначала пробуем найти подстроку \"answer _ .\"\n",
        "# если такую не встретили, ищем, когда в последний раз встретилось выражение \"= число\"\n",
        "# в противном случае просто возьмём последнее сгенерированное число\n",
        "def Answer_search(string):\n",
        "    pattern  = r\"answer[^.]*\\s+([0-9]+)[^.]*\\.\"\n",
        "    match_re = re.search(pattern, string)\n",
        "    if match_re:\n",
        "      return int(match_re.group(1))\n",
        "\n",
        "    pattern  = r\"=(\\s*\\d+)\\b\"\n",
        "    match_re = re.findall(pattern, string)\n",
        "    if match_re:\n",
        "      return int(match_re[-1])\n",
        "\n",
        "    pattern  = r'\\d+'\n",
        "    match_re = re.findall(pattern, string)\n",
        "    if match_re:\n",
        "      return match_re[-1]\n",
        "    \n",
        "    return 'no answer'\n"
      ]
    },
    {
      "cell_type": "code",
      "execution_count": 7,
      "metadata": {
        "id": "yzCiCsuun9nn"
      },
      "outputs": [],
      "source": [
        "# из текстовых файлов достаём рассуждения и ответы\n",
        "with open(f'/content/greedy_easy.txt', 'r') as f:\n",
        "  GREEDY_THOUGHTS = f.read().replace('\\n', '').split(\"#\")[:-1]\n",
        "\n",
        "GREEDY_ANSWERS = [Answer_search(thought) for thought in GREEDY_THOUGHTS]\n",
        "\n",
        "\n",
        "GENERATED_THOUGHTS = []\n",
        "for i in range(NUMBER_OF_TEST_PROBLEMS):\n",
        "  with open(f'/content/ensemble_{i}_easy.txt', 'r') as f:\n",
        "    line = f.read().replace('\\n', '')\n",
        "    GENERATED_THOUGHTS.append(line.split(\"#\")[:-1])\n",
        "\n",
        "GENERATED_ANSWERS = []\n",
        "for thought in GENERATED_THOUGHTS:\n",
        "  GENERATED_ANSWERS.append([Answer_search(thought[i]) for i in range(len(thought))]) \n"
      ]
    },
    {
      "cell_type": "code",
      "execution_count": 78,
      "metadata": {
        "colab": {
          "base_uri": "https://localhost:8080/"
        },
        "id": "lbCOrtEhNvts",
        "outputId": "b7b630af-1708-4b44-8e1e-aec3b05244cb"
      },
      "outputs": [
        {
          "data": {
            "text/plain": [
              "2"
            ]
          },
          "execution_count": 78,
          "metadata": {},
          "output_type": "execute_result"
        }
      ],
      "source": [
        "# проверим, сколько раз greedy даёт правильный ответ\n",
        "sum([1 for i in range(NUMBER_OF_TEST_PROBLEMS) if GREEDY_ANSWERS[i] == int(ANSWERS[i][0])])"
      ]
    },
    {
      "cell_type": "code",
      "execution_count": 48,
      "metadata": {
        "colab": {
          "base_uri": "https://localhost:8080/"
        },
        "id": "9P6ZOAgLzCTu",
        "outputId": "adbe1d3d-8f3d-4d42-cf94-14dd402db74c"
      },
      "outputs": [
        {
          "data": {
            "text/plain": [
              "1"
            ]
          },
          "execution_count": 48,
          "metadata": {},
          "output_type": "execute_result"
        }
      ],
      "source": [
        "# для ансамблированного CoT вычислим значения, встречающиеся наиболее часто, его будем считать ответом\n",
        "mode_of_answers = [statistics.mode(GENERATED_ANSWERS[i]) for i in range(NUMBER_OF_TEST_PROBLEMS)]\n",
        "\n",
        "# узнаем, сколько раз ответ совпал с настоящим\n",
        "sum([1 for i in range(NUMBER_OF_TEST_PROBLEMS) if mode_of_answers[i] == int(ANSWERS[i][0])])"
      ]
    },
    {
      "cell_type": "code",
      "execution_count": 49,
      "metadata": {
        "colab": {
          "base_uri": "https://localhost:8080/"
        },
        "id": "yIh5-e5N9LMe",
        "outputId": "95c784eb-d4c3-44bf-94ff-3cb694e605dd"
      },
      "outputs": [
        {
          "data": {
            "text/plain": [
              "13"
            ]
          },
          "execution_count": 49,
          "metadata": {},
          "output_type": "execute_result"
        }
      ],
      "source": [
        "# посчитаем, сколько раз правильный ответ в принципе был сгенерирован при ансамблированном CoT\n",
        "sum([1 for i in range(NUMBER_OF_TEST_PROBLEMS) if int(ANSWERS[i][0]) in GENERATED_ANSWERS[i]])"
      ]
    },
    {
      "cell_type": "code",
      "execution_count": 58,
      "metadata": {
        "id": "uNJrYvrfBgV6"
      },
      "outputs": [],
      "source": [
        "# загружаем модель Sentence-BERT \n",
        "sen_to_vec = SentenceTransformer('paraphrase-MiniLM-L6-v2')\n",
        "\n",
        "# векторизуем настроящие и greedy решения с помощью SBERT\n",
        "ANSWER_EMBEDDINGS = [sen_to_vec.encode(ANSWERS[i][1])  for i in range(NUMBER_OF_TEST_PROBLEMS)]\n",
        "GREEDY_EMBEDDINGS = [sen_to_vec.encode(GREEDY_THOUGHTS[i])  for i in tqdm(range(NUMBER_OF_TEST_PROBLEMS))]\n",
        "\n",
        "# для каждого решения из ансамблированного CoT найдём вектор и вычислим вектор средних \n",
        "# арифметических по каждой задаче\n",
        "MEAN_EMBEDDINGS = []\n",
        "for thoughts in tqdm(GENERATED_THOUGHTS):\n",
        "  mean_vector_ensemble = np.mean([sen_to_vec.encode(thoughts[i]) for i in range(NUMBER_OF_SAMPLES)],axis=0)\n",
        "  MEAN_EMBEDDINGS.append(mean_vector_ensemble)\n",
        "\n",
        "# определим расстояние между вектором решения и эталонным решением\n",
        "def Distances(embeddings):\n",
        "  return [np.linalg.norm(embeddings[i] - ANSWER_EMBEDDINGS[i]) for i in range(NUMBER_OF_TEST_PROBLEMS)]\n",
        "\n"
      ]
    },
    {
      "cell_type": "code",
      "execution_count": 77,
      "metadata": {
        "colab": {
          "base_uri": "https://localhost:8080/",
          "height": 404
        },
        "id": "R_KbvqbYdXcf",
        "outputId": "55b33d18-c7b9-4e62-af90-2714f4763d10"
      },
      "outputs": [
        {
          "data": {
            "image/png": "[encoded data removed]",
            "text/plain": [
              "<Figure size 864x432 with 1 Axes>"
            ]
          },
          "metadata": {
            "needs_background": "light"
          },
          "output_type": "display_data"
        }
      ],
      "source": [
        "# визуализируем расстояния от greedy векторов до эталонных и от ансамблированных до \n",
        "# эталонных для каждой задачи\n",
        "dists1 = Distances(GREEDY_EMBEDDINGS)\n",
        "dists2 = Distances(MEAN_EMBEDDINGS)\n",
        "\n",
        "fig = plt.figure(figsize=(12, 6))\n",
        "ax = fig.add_subplot(111)\n",
        "\n",
        "ax.scatter(range(len(dists1)), dists1, c='purple', label='от greedy')\n",
        "ax.scatter(range(len(dists2)), dists2, c='pink',   label='от среднего по ансамблированному CoT')\n",
        "\n",
        "ax.axhline(np.mean(dists1), c='purple', linestyle='--')\n",
        "ax.axhline(np.mean(dists2), c='pink',   linestyle='--')\n",
        "\n",
        "ax.set_xlabel('Номер задачи')\n",
        "ax.set_ylabel('Расстояние')\n",
        "ax.set_title('Расстояния до эталонного решения')\n",
        "\n",
        "ax.legend()\n",
        "plt.show()"
      ]
    }
  ],
  "metadata": {
    "colab": {
      "provenance": []
    },
    "gpuClass": "standard",
    "kernelspec": {
      "display_name": "Python 3",
      "language": "python",
      "name": "python3"
    },
    "language_info": {
      "name": "python",
      "version": "3.10.5"
    },
    "vscode": {
      "interpreter": {
        "hash": "b460384b52104c1e5b9cf54bee46a255d22b2bef338f75ac4ad5d48196028d3c"
      }
    }
  },
  "nbformat": 4,
  "nbformat_minor": 0
}
